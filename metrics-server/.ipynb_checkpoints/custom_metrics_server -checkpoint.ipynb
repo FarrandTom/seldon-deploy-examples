{
 "cells": [
  {
   "cell_type": "markdown",
   "metadata": {},
   "source": [
    "# Custom Metrics Server "
   ]
  },
  {
   "cell_type": "markdown",
   "metadata": {},
   "source": [
    "### Train and serialise logistic regressor"
   ]
  },
  {
   "cell_type": "code",
   "execution_count": null,
   "metadata": {},
   "outputs": [],
   "source": [
    "from sklearn.datasets import load_iris\n",
    "from sklearn.model_selection import train_test_split\n",
    "from sklearn.linear_model import LogisticRegression\n",
    "import joblib\n",
    "import numpy as np\n",
    "\n",
    "dataset = load_iris()\n",
    "feature_names = dataset.feature_names\n",
    "class_names = list(dataset.target_names)\n",
    "\n",
    "X = dataset.data\n",
    "y = dataset.target\n",
    "\n",
    "X_train, X_test, y_train, y_test = train_test_split(X, y, test_size=0.2, random_state=42)\n",
    "\n",
    "lr = LogisticRegression(max_iter=4000)\n",
    "lr.fit(X_train, y_train)\n",
    "\n",
    "joblib.dump(lr, 'model.joblib')"
   ]
  },
  {
   "cell_type": "markdown",
   "metadata": {},
   "source": [
    "Push model artefact to s3:  "
   ]
  },
  {
   "cell_type": "code",
   "execution_count": null,
   "metadata": {},
   "outputs": [],
   "source": [
    "!gsutil cp model.joblib gs://tom-seldon-examples/custom-metrics/lr/model.joblib"
   ]
  },
  {
   "cell_type": "markdown",
   "metadata": {},
   "source": [
    "### Custom Metrics Server "
   ]
  },
  {
   "cell_type": "markdown",
   "metadata": {},
   "source": [
    "First we need to specify custom metric logic within a class. We can adapt logic from [existing custom metric servers](https://github.com/SeldonIO/seldon-core/tree/22d19a1b7d445b41d9588ab2e525a64ef5c10097/components/alibi-detect-server/adserver/cm_models) in Seldon Core. The class will be loaded by the Alibi Detect server."
   ]
  },
  {
   "cell_type": "code",
   "execution_count": null,
   "metadata": {},
   "outputs": [],
   "source": [
    "import numpy \n",
    "from seldon_core.user_model import SeldonResponse \n",
    "\n",
    "class MultiClassNumeric:\n",
    "    \"\"\"\n",
    "    MultiClassNumeric Model\n",
    "    Parameters\n",
    "    -----------\n",
    "    \"\"\"\n",
    "\n",
    "    def __init__(self):\n",
    "        self._np = numpy\n",
    "        self._SeldonResponse = SeldonResponse\n",
    "\n",
    "    def transform(self, truth, response, request=None):\n",
    "        \"\"\"\n",
    "        Perform a multiclass numeric comparison between truth and response.\n",
    "        Parameters\n",
    "        -----------\n",
    "        truth\n",
    "            Actual data value as format of <number> or [<number>]\n",
    "        response\n",
    "            Prediction data value as format of <number> or [<number>]\n",
    "        request\n",
    "            Input data value as format of <number> or [<number>]\n",
    "        \"\"\"\n",
    "\n",
    "        metrics = []\n",
    "\n",
    "        response_class = (\n",
    "            response[0] if isinstance(response, (list, self._np.ndarray)) else response\n",
    "        )\n",
    "        truth_class = truth[0] if isinstance(truth, (list, self._np.ndarray)) else truth\n",
    "\n",
    "        correct = response_class == truth_class\n",
    "\n",
    "        if correct:\n",
    "            metrics.append(\n",
    "                {\n",
    "                    \"key\": \"seldon_metric_true_positive\",\n",
    "                    \"type\": \"COUNTER\",\n",
    "                    \"value\": 1,\n",
    "                    \"tags\": {\"class\": f\"CLASS_{truth_class}\"},\n",
    "                }\n",
    "            )\n",
    "            metrics.append(\n",
    "                {\n",
    "                    \"key\": \"seldon_metric_true_negative\",\n",
    "                    \"type\": \"COUNTER\",\n",
    "                    \"value\": 1,\n",
    "                    \"tags\": {\"class\": f\"CLASS_{response_class}\"},\n",
    "                }\n",
    "            )\n",
    "        else:\n",
    "            metrics.append(\n",
    "                {\n",
    "                    \"key\": \"seldon_metric_false_negative\",\n",
    "                    \"type\": \"COUNTER\",\n",
    "                    \"value\": 1,\n",
    "                    \"tags\": {\"class\": f\"CLASS_{truth_class}\"},\n",
    "                }\n",
    "            )\n",
    "            metrics.append(\n",
    "                {\n",
    "                    \"key\": \"seldon_metric_false_positive\",\n",
    "                    \"type\": \"COUNTER\",\n",
    "                    \"value\": 1,\n",
    "                    \"tags\": {\"class\": f\"CLASS_{response_class}\"},\n",
    "                }\n",
    "            )\n",
    "\n",
    "        return self._SeldonResponse(None, None, metrics)"
   ]
  },
  {
   "cell_type": "markdown",
   "metadata": {},
   "source": [
    "Serialise the class with dill:"
   ]
  },
  {
   "cell_type": "code",
   "execution_count": null,
   "metadata": {},
   "outputs": [],
   "source": [
    "import dill\n",
    "with open('meta.pickle', 'wb') as f:\n",
    "    dill.dump(MultiClassNumeric(), f)"
   ]
  },
  {
   "cell_type": "markdown",
   "metadata": {},
   "source": [
    "Push model artefact to s3 bucket: "
   ]
  },
  {
   "cell_type": "code",
   "execution_count": null,
   "metadata": {},
   "outputs": [],
   "source": [
    "!gsutil cp meta.pickle gs://tom-seldon-examples/custom-metrics/metrics/meta.pickle"
   ]
  },
  {
   "cell_type": "markdown",
   "metadata": {},
   "source": [
    "Authenticate: "
   ]
  },
  {
   "cell_type": "code",
   "execution_count": null,
   "metadata": {},
   "outputs": [],
   "source": [
    "from seldon_deploy_sdk import Configuration, ApiClient, SeldonDeploymentsApi, MetricsServerApi\n",
    "from seldon_deploy_sdk.auth import OIDCAuthenticator\n",
    "import requests\n",
    "\n",
    "SD_IP = \"\"\n",
    "username = \"\"\n",
    "password = \"\"\n",
    "\n",
    "config = Configuration()\n",
    "config.host = f\"http://{SD_IP}/seldon-deploy/api/v1alpha1\"\n",
    "\n",
    "config.oidc_client_id = \"sd-api\"\n",
    "config.oidc_client_secret = \"sd-api-secret\"\n",
    "config.oidc_server = f\"http://{SD_IP}/auth/realms/deploy-realm\"\n",
    "\n",
    "def auth():\n",
    "    auth = OIDCAuthenticator(config)\n",
    "    config.access_token = auth.authenticate(username, password)\n",
    "    api_client = ApiClient(config)\n",
    "    return api_client"
   ]
  },
  {
   "cell_type": "code",
   "execution_count": null,
   "metadata": {},
   "outputs": [],
   "source": [
    "DEPLOYMENT_NAME = \"iris-sample\"\n",
    "MODEL_LOCATION = \"gs://tom-seldon-examples/custom-metrics/lr\""
   ]
  },
  {
   "cell_type": "code",
   "execution_count": null,
   "metadata": {},
   "outputs": [],
   "source": [
    "NAMESPACE = \"test\"\n",
    "PREPACKAGED_SERVER = \"SKLEARN_SERVER\"\n",
    "\n",
    "CPU_REQUESTS = \"1\"\n",
    "MEMORY_REQUESTS = \"1Gi\"\n",
    "\n",
    "CPU_LIMITS = \"1\"\n",
    "MEMORY_LIMITS = \"1Gi\"\n",
    "\n",
    "mldeployment = {\n",
    "    \"kind\": \"SeldonDeployment\",\n",
    "    \"metadata\": {\n",
    "        \"name\": DEPLOYMENT_NAME,\n",
    "        \"namespace\": NAMESPACE,\n",
    "        \"labels\": {\n",
    "            \"fluentd\": \"true\"\n",
    "        }\n",
    "    },\n",
    "    \"apiVersion\": \"machinelearning.seldon.io/v1alpha2\",\n",
    "    \"spec\": {\n",
    "        \"name\": DEPLOYMENT_NAME,\n",
    "        \"annotations\": {\n",
    "            \"seldon.io/engine-seldon-log-messages-externally\": \"true\"\n",
    "        },\n",
    "        \"protocol\": \"seldon\",\n",
    "        \"transport\": \"rest\",\n",
    "        \"predictors\": [\n",
    "            {\n",
    "                \"componentSpecs\": [\n",
    "                    {\n",
    "                        \"spec\": {\n",
    "                            \"containers\": [\n",
    "                                {\n",
    "                                    \"name\": f\"{DEPLOYMENT_NAME}-container\",\n",
    "                                    \"resources\": {\n",
    "                                        \"requests\": {\n",
    "                                            \"cpu\": CPU_REQUESTS,\n",
    "                                            \"memory\": MEMORY_REQUESTS\n",
    "                                        },\n",
    "                                        \"limits\": {\n",
    "                                            \"cpu\": CPU_LIMITS,\n",
    "                                            \"memory\": MEMORY_LIMITS\n",
    "                                        }\n",
    "                                    }\n",
    "                                }\n",
    "                            ]\n",
    "                        }\n",
    "                    }\n",
    "                ],\n",
    "                \"name\": \"default\",\n",
    "                \"replicas\": 1,\n",
    "                \"traffic\": 100,\n",
    "                \"graph\": {\n",
    "                    \"implementation\": PREPACKAGED_SERVER,\n",
    "                    \"modelUri\": MODEL_LOCATION,\n",
    "                    \"name\": f\"{DEPLOYMENT_NAME}-container\",\n",
    "                    \"endpoint\": {\n",
    "                        \"type\": \"REST\"\n",
    "                    },\n",
    "                    \"parameters\": [],\n",
    "                    \"children\": [],\n",
    "                    \"logger\": {\n",
    "                        \"mode\": \"all\"\n",
    "                    }\n",
    "                }\n",
    "            }\n",
    "        ]\n",
    "    },\n",
    "    \"status\": {}\n",
    "}"
   ]
  },
  {
   "cell_type": "code",
   "execution_count": null,
   "metadata": {},
   "outputs": [],
   "source": [
    "deployment_api = SeldonDeploymentsApi(auth())\n",
    "deployment_api.create_seldon_deployment(namespace=NAMESPACE, mldeployment=mldeployment)"
   ]
  },
  {
   "cell_type": "markdown",
   "metadata": {},
   "source": [
    "We will now add a metrics server to our deployment: "
   ]
  },
  {
   "cell_type": "code",
   "execution_count": null,
   "metadata": {},
   "outputs": [],
   "source": [
    "metrics_server = {\n",
    "    \"params\": {\n",
    "        \"model_name\": \"multiclassserver\",\n",
    "        \"protocol\": \"seldonfeedback.http\",\n",
    "        \"reply_url\": \"http://seldon-request-logger.seldon-logs\",\n",
    "        \"storage_uri\": \"gs://tom-seldon-examples/custom-metrics/metrics\"  \n",
    "    }\n",
    "}"
   ]
  },
  {
   "cell_type": "code",
   "execution_count": null,
   "metadata": {},
   "outputs": [],
   "source": [
    "metrics_api = MetricsServerApi(auth())\n",
    "metrics_api.create_metrics_server_seldon_deployment(name= DEPLOYMENT_NAME, namespace= NAMESPACE, metrics_server=metrics_server)\n"
   ]
  },
  {
   "cell_type": "markdown",
   "metadata": {},
   "source": [
    "Send the following positive feedback request several times to the model: "
   ]
  },
  {
   "cell_type": "code",
   "execution_count": null,
   "metadata": {},
   "outputs": [],
   "source": [
    "!curl -k -H \"Content-Type: application/json\" -X POST f\"http://{SD_IP}/seldon/test/{DEPLOYMENT_NAME}/api/v0.1/feedback\" -d '{\"response\":{\"data\":{\"ndarray\":[0]}},\"truth\":{\"data\":{\"ndarray\":[0]}}}'"
   ]
  },
  {
   "cell_type": "markdown",
   "metadata": {},
   "source": [
    "Send the following negative feedback request several times to the model:"
   ]
  },
  {
   "cell_type": "code",
   "execution_count": null,
   "metadata": {},
   "outputs": [],
   "source": [
    "!curl -k -H \"Content-Type: application/json\" -X POST f\"http://{SD_IP}/seldon/test/{DEPLOYMENT_NAME}/api/v0.1/feedback\" -d '{\"response\":{\"data\":{\"ndarray\":[1]}},\"truth\":{\"data\":{\"ndarray\":[0]}}}'"
   ]
  },
  {
   "cell_type": "markdown",
   "metadata": {},
   "source": [
    "Check the \"Prediction Accuracy\" Monitor tab in Seldon Deploy and filter the results based on the period of time you started sending requests to view the rolling performance metrics: "
   ]
  },
  {
   "cell_type": "markdown",
   "metadata": {},
   "source": [
    "<img src=\"files/custom-metrics.png\">"
   ]
  },
  {
   "cell_type": "code",
   "execution_count": null,
   "metadata": {},
   "outputs": [],
   "source": []
  }
 ],
 "metadata": {
  "kernelspec": {
   "display_name": "Python 3",
   "language": "python",
   "name": "python3"
  },
  "language_info": {
   "codemirror_mode": {
    "name": "ipython",
    "version": 3
   },
   "file_extension": ".py",
   "mimetype": "text/x-python",
   "name": "python",
   "nbconvert_exporter": "python",
   "pygments_lexer": "ipython3",
   "version": "3.8.10"
  }
 },
 "nbformat": 4,
 "nbformat_minor": 4
}
