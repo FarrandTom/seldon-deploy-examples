{
 "cells": [
  {
   "cell_type": "markdown",
   "metadata": {
    "id": "RomFuTAqSW0Z"
   },
   "source": [
    "# Iris Classification Canary Deployment"
   ]
  },
  {
   "cell_type": "markdown",
   "metadata": {
    "id": "01OHsBI6SW0e"
   },
   "source": [
    "### Import relevant packages"
   ]
  },
  {
   "cell_type": "code",
   "execution_count": null,
   "metadata": {
    "colab": {
     "base_uri": "https://localhost:8080/"
    },
    "id": "HfKXJ5t5SW0i",
    "outputId": "f74fcf25-2dd9-4b68-a0b1-4316a6094b30"
   },
   "outputs": [],
   "source": [
    "!pip install seldon-deploy-sdk"
   ]
  },
  {
   "cell_type": "code",
   "execution_count": null,
   "metadata": {
    "id": "5WGfR_7vSW0m"
   },
   "outputs": [],
   "source": [
    "from seldon_deploy_sdk import Configuration, ApiClient, SeldonDeploymentsApi\n",
    "from seldon_deploy_sdk.auth import OIDCAuthenticator\n",
    "\n",
    "from sklearn.linear_model import LogisticRegression\n",
    "from sklearn.datasets import load_iris\n",
    "from sklearn.model_selection import train_test_split\n",
    "from sklearn.metrics import precision_score, recall_score, accuracy_score, f1_score, confusion_matrix\n",
    "\n",
    "import numpy as np\n",
    "import pandas as pd\n",
    "\n",
    "import xgboost as xgb\n",
    "\n",
    "import os\n",
    "import joblib"
   ]
  },
  {
   "cell_type": "markdown",
   "metadata": {
    "id": "dMwu2Rk4SW0r"
   },
   "source": [
    "### Loading the data"
   ]
  },
  {
   "cell_type": "code",
   "execution_count": null,
   "metadata": {
    "id": "MgWkzF1dSW0t"
   },
   "outputs": [],
   "source": [
    "dataset = load_iris()\n",
    "feature_names = dataset.feature_names\n",
    "class_names = list(dataset.target_names)\n",
    "\n",
    "X = dataset.data\n",
    "y = dataset.target"
   ]
  },
  {
   "cell_type": "code",
   "execution_count": null,
   "metadata": {
    "id": "4qIxSW-nSW0y"
   },
   "outputs": [],
   "source": [
    "X_train, X_test, y_train, y_test = train_test_split(X, y, test_size=0.2, random_state=42)"
   ]
  },
  {
   "cell_type": "markdown",
   "metadata": {
    "id": "wtm3VdPUSW06"
   },
   "source": [
    "### Model training\n",
    "\n",
    "#### Logistic Regressor "
   ]
  },
  {
   "cell_type": "code",
   "execution_count": null,
   "metadata": {
    "colab": {
     "base_uri": "https://localhost:8080/"
    },
    "id": "WOiGalUqSW07",
    "outputId": "371b843d-7fe1-4fc0-e1f3-5b51510f9987"
   },
   "outputs": [],
   "source": [
    "lr = LogisticRegression(max_iter=4000)\n",
    "lr.fit(X_train, y_train)\n",
    "\n",
    "print(precision_score(y_test, lr.predict(X_test), average=\"macro\"))\n",
    "print(recall_score(y_test, lr.predict(X_test), average=\"macro\"))\n",
    "print(accuracy_score(y_test, lr.predict(X_test)))"
   ]
  },
  {
   "cell_type": "markdown",
   "metadata": {
    "id": "1MxWp8CGSW08"
   },
   "source": [
    "#### XGBoost"
   ]
  },
  {
   "cell_type": "code",
   "execution_count": null,
   "metadata": {
    "id": "U2n7Rs61SW09"
   },
   "outputs": [],
   "source": [
    "dtrain = xgb.DMatrix(X_train, label=y_train)\n",
    "dtest = xgb.DMatrix(X_test, label=y_test)"
   ]
  },
  {
   "cell_type": "code",
   "execution_count": null,
   "metadata": {
    "id": "zCxOKjK1SW0-"
   },
   "outputs": [],
   "source": [
    "param = {\n",
    "    'max_depth': 3,\n",
    "    'eta': 0.3,\n",
    "    'objective': 'multi:softprob',\n",
    "    'num_class': 3} \n",
    "\n",
    "num_round = 20"
   ]
  },
  {
   "cell_type": "code",
   "execution_count": null,
   "metadata": {
    "colab": {
     "base_uri": "https://localhost:8080/"
    },
    "id": "CPH0kxIiSW0-",
    "outputId": "a72b8b36-1639-4e71-e91f-5150da71a632"
   },
   "outputs": [],
   "source": [
    "bst = xgb.train(param, dtrain, num_round)\n",
    "preds = np.asarray([np.argmax(line) for line in bst.predict(dtest)])\n",
    "print(precision_score(y_test, preds, average=\"macro\"))\n",
    "print(recall_score(y_test, preds, average=\"macro\"))\n",
    "print(accuracy_score(y_test, preds))"
   ]
  },
  {
   "cell_type": "markdown",
   "metadata": {
    "id": "Iml5FehYSW0_"
   },
   "source": [
    "### Save models"
   ]
  },
  {
   "cell_type": "code",
   "execution_count": null,
   "metadata": {
    "id": "QA5ExihMSW0_"
   },
   "outputs": [],
   "source": [
    "# Saving the logistic regressor\n",
    "joblib.dump(lr, 'model.joblib')\n",
    "\n",
    "# Saving the XGBoost classifier\n",
    "bst.save_model('model.bst')"
   ]
  },
  {
   "cell_type": "markdown",
   "metadata": {
    "id": "fJI4NA4cSW1A"
   },
   "source": [
    "### Push model artefacts to S3\n",
    "\n",
    "You will now need to push the saved model binaries to an s3 compatible bucket, where they can be picked up by Seldon and deployed onto Kubernetes. \n",
    "\n",
    "Here is an example of pushing to GCP:"
   ]
  },
  {
   "cell_type": "code",
   "execution_count": null,
   "metadata": {
    "id": "pY01jI5KHlwU"
   },
   "outputs": [],
   "source": [
    "YOUR_NAME = \"\"\n",
    "YOUR_BUCKET = \"\""
   ]
  },
  {
   "cell_type": "code",
   "execution_count": null,
   "metadata": {
    "colab": {
     "base_uri": "https://localhost:8080/"
    },
    "id": "Y_V5lgCkSW1A",
    "outputId": "a4ca542e-a7a2-4514-93a2-0a0ba4b2df79"
   },
   "outputs": [],
   "source": [
    "!gsutil cp model.joblib gs://\"{YOUR_BUCKET}\"/\"{YOUR_NAME}\"/lr/model.joblib\n",
    "!gsutil cp model.bst gs://\"{YOUR_BUCKET}\"/\"{YOUR_NAME}\"/xgb/model.bst"
   ]
  },
  {
   "cell_type": "markdown",
   "metadata": {
    "id": "qDRBvVzRSW1B"
   },
   "source": [
    "### Model Deployment\n",
    "\n",
    "Deploying the model to a Seldon Deploy trial instance using the `seldon-deploy-sdk`. \n",
    "\n",
    "First, set up the configuration and authentication required to access the cluster. "
   ]
  },
  {
   "cell_type": "code",
   "execution_count": null,
   "metadata": {
    "id": "Lf1mxpQmSW1B"
   },
   "outputs": [],
   "source": [
    "SD_IP = \"YOUR_IP\"\n",
    "username = \"YOUR_USERNAME\"\n",
    "password = \"YOUR_PASSWORD\"\n",
    "\n",
    "config = Configuration()\n",
    "config.host = f\"http://{SD_IP}/seldon-deploy/api/v1alpha1\"\n",
    "config.oidc_client_id = \"sd-api\"\n",
    "config.oidc_server = f\"http://{SD_IP}/auth/realms/deploy-realm\"\n",
    "\n",
    "\n",
    "def auth():\n",
    "    auth = OIDCAuthenticator(config)\n",
    "    config.access_token = auth.authenticate(username, password)\n",
    "    api_client = ApiClient(config)\n",
    "    return api_client"
   ]
  },
  {
   "cell_type": "markdown",
   "metadata": {
    "id": "4Cu9NAjhzjq0"
   },
   "source": [
    "### Canary Deployment\n"
   ]
  },
  {
   "cell_type": "code",
   "execution_count": null,
   "metadata": {
    "id": "iMC5dC7xSW1D"
   },
   "outputs": [],
   "source": [
    "NAMESPACE = \"YOUR_NAMESPACE\"\n",
    "\n",
    "MODEL_NAME = \"lr\"\n",
    "DEPLOYMENT_NAME = \"DEPLOYMENT_NAME\"\n",
    "MODEL_LOCATION = f\"gs://{YOUR_BUCKET}/{YOUR_NAME}/lr\"\n",
    "PREPACKAGED_SERVER = \"SKLEARN_SERVER\"\n",
    "DEFAULT_TRAFFIC = 60\n",
    "CPU_REQUESTS = \"1\"\n",
    "MEMORY_REQUESTS = \"1Gi\"\n",
    "CPU_LIMITS = \"1\"\n",
    "MEMORY_LIMITS = \"1Gi\"\n",
    "\n",
    "CANARY_MODEL_NAME = 'xgb'\n",
    "CANARY_DEPLOYMENT_NAME = \"CANARY_NAME\"\n",
    "CANARY_MODEL_LOCATION = f\"gs://{YOUR_BUCKET}/{YOUR_NAME}/xgb\"\n",
    "CANARY_PREPACKAGED_SERVER = \"XGBOOST_SERVER\"\n",
    "CANARY_TRAFFIC = 40"
   ]
  },
  {
   "cell_type": "code",
   "execution_count": null,
   "metadata": {
    "id": "oSib6ZcZSW1D"
   },
   "outputs": [],
   "source": [
    "mldeployment = {\n",
    "    \"kind\": \"SeldonDeployment\",\n",
    "    \"metadata\": {\n",
    "        \"name\": DEPLOYMENT_NAME,\n",
    "        \"namespace\": NAMESPACE,\n",
    "        \"labels\": {\n",
    "            \"fluentd\": \"true\"\n",
    "        }\n",
    "    },\n",
    "    \"apiVersion\": \"machinelearning.seldon.io/v1alpha2\",\n",
    "    \"spec\": {\n",
    "        \"name\": DEPLOYMENT_NAME,\n",
    "        \"annotations\": {\n",
    "            \"seldon.io/engine-seldon-log-messages-externally\": \"true\"\n",
    "        },\n",
    "        \"protocol\": \"seldon\",\n",
    "        \"transport\": \"rest\",\n",
    "        \"predictors\": [\n",
    "            {\n",
    "                \"componentSpecs\": [\n",
    "                    {\n",
    "                        \"spec\": {\n",
    "                            \"containers\": [\n",
    "                                {\n",
    "                                    \"name\": f\"{DEPLOYMENT_NAME}-container\",\n",
    "                                    \"resources\": {\n",
    "                                        \"requests\": {\n",
    "                                            \"cpu\": CPU_REQUESTS,\n",
    "                                            \"memory\": MEMORY_REQUESTS\n",
    "                                        },\n",
    "                                        \"limits\": {\n",
    "                                            \"cpu\": CPU_LIMITS,\n",
    "                                            \"memory\": MEMORY_LIMITS\n",
    "                                        }\n",
    "                                    }\n",
    "                                }\n",
    "                            ]\n",
    "                        }\n",
    "                    }\n",
    "                ],\n",
    "                \"name\": \"default\",\n",
    "                \"replicas\": 1,\n",
    "                \"traffic\": DEFAULT_TRAFFIC,\n",
    "                \"graph\": {\n",
    "                    \"implementation\": PREPACKAGED_SERVER,\n",
    "                    \"modelUri\": MODEL_LOCATION,\n",
    "                    \"name\": f\"{DEPLOYMENT_NAME}-container\",\n",
    "                    \"endpoint\": {\n",
    "                        \"type\": \"REST\"\n",
    "                    },\n",
    "                    \"parameters\": [],\n",
    "                    \"children\": [],\n",
    "                    \"logger\": {\n",
    "                        \"mode\": \"all\"\n",
    "                    }\n",
    "                }\n",
    "            },{\n",
    "                \"componentSpecs\": [\n",
    "                    {\n",
    "                        \"spec\": {\n",
    "                            \"containers\": [\n",
    "                                {\n",
    "                                    \"name\": f\"{CANARY_DEPLOYMENT_NAME}-container\",\n",
    "                                    \"resources\": {}\n",
    "                                }\n",
    "                            ]\n",
    "                        }\n",
    "                    }\n",
    "                ],\n",
    "                \"name\": \"canary\",\n",
    "                \"replicas\": 1,\n",
    "                \"traffic\": CANARY_TRAFFIC,\n",
    "                \"graph\": {\n",
    "                    \"implementation\": CANARY_PREPACKAGED_SERVER,\n",
    "                    \"modelUri\": CANARY_MODEL_LOCATION,\n",
    "                    \"name\": f\"{CANARY_DEPLOYMENT_NAME}-container\"\n",
    "                }\n",
    "            }\n",
    "        ]\n",
    "    },\n",
    "    \"status\": {}\n",
    "}"
   ]
  },
  {
   "cell_type": "code",
   "execution_count": null,
   "metadata": {
    "colab": {
     "base_uri": "https://localhost:8080/"
    },
    "id": "U60-n9u1SW1E",
    "outputId": "aa1273da-0598-4066-ab70-5ecde0ba4965",
    "scrolled": true
   },
   "outputs": [],
   "source": [
    "deployment_api = SeldonDeploymentsApi(auth())\n",
    "deployment_api.update_seldon_deployment(namespace=NAMESPACE, name=DEPLOYMENT_NAME, mldeployment=mldeployment)"
   ]
  },
  {
   "cell_type": "markdown",
   "metadata": {
    "id": "KvF85kJmSW1F"
   },
   "source": [
    "Canary should now be running. You can now log into Seldon Deploy and test your deployment:\n",
    "\n",
    "You can now test your models with this request.\n",
    "```\n",
    "{\n",
    "    \"data\": {\n",
    "    \"names\": [\"Sepal length\",\"Sepal width\",\"Petal length\", \"Petal Width\"],\n",
    "    \"ndarray\": [\n",
    "        [6.8,  2.8,  4.8,  1.4]\n",
    "    ]\n",
    "    }\n",
    "}\n",
    "```\n",
    "  "
   ]
  },
  {
   "cell_type": "markdown",
   "metadata": {
    "id": "iakJC-QiRW4W"
   },
   "source": [
    "### Get current deployments\n",
    "\n"
   ]
  },
  {
   "cell_type": "code",
   "execution_count": null,
   "metadata": {
    "colab": {
     "base_uri": "https://localhost:8080/"
    },
    "id": "qbtZjwbsPR4G",
    "outputId": "ca467dc5-3b85-46ef-ea0a-2ec91c27d5d1"
   },
   "outputs": [],
   "source": [
    "deployment_api = SeldonDeploymentsApi(auth())\n",
    "deployment_api.list_seldon_deployments(namespace=NAMESPACE)"
   ]
  },
  {
   "cell_type": "markdown",
   "metadata": {
    "id": "-w7dkyYJRbKK"
   },
   "source": [
    "### Promote XGBoost\n",
    "\n",
    "To promote the XGBoost classifier we can adjust our ```mldeployment``` dictionary by replacing our default scikit-learn model with the xgboost model, adjusting the traffic to 100% and removing the canary:"
   ]
  },
  {
   "cell_type": "code",
   "execution_count": null,
   "metadata": {
    "id": "AzkD-jIpztps"
   },
   "outputs": [],
   "source": [
    "mldeployment['spec']['predictors'][0] = mldeployment['spec']['predictors'][1]\n",
    "mldeployment['spec']['predictors'][0]['traffic'] = 100\n",
    "del mldeployment['spec']['predictors'][1]"
   ]
  },
  {
   "cell_type": "code",
   "execution_count": null,
   "metadata": {
    "colab": {
     "base_uri": "https://localhost:8080/"
    },
    "id": "uERv5NwP4NuW",
    "outputId": "aa041d6d-6b2b-48ff-a969-50f6721f8967"
   },
   "outputs": [],
   "source": [
    "deployment_api = SeldonDeploymentsApi(auth())\n",
    "deployment_api.create_seldon_deployment(namespace=NAMESPACE, mldeployment=mldeployment)"
   ]
  }
 ],
 "metadata": {
  "colab": {
   "collapsed_sections": [],
   "name": "generic_workshop.ipynb",
   "provenance": []
  },
  "kernelspec": {
   "display_name": "Python 3",
   "language": "python",
   "name": "python3"
  },
  "language_info": {
   "codemirror_mode": {
    "name": "ipython",
    "version": 3
   },
   "file_extension": ".py",
   "mimetype": "text/x-python",
   "name": "python",
   "nbconvert_exporter": "python",
   "pygments_lexer": "ipython3",
   "version": "3.6.6"
  }
 },
 "nbformat": 4,
 "nbformat_minor": 1
}
